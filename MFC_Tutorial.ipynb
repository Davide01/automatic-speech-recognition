{
 "cells": [
  {
   "cell_type": "code",
   "execution_count": 1,
   "metadata": {},
   "outputs": [],
   "source": [
    "import numpy\n",
    "import scipy.io.wavfile\n",
    "from scipy.fftpack import dct\n",
    "\n",
    "\n",
    "#Step 1 loading a file"
   ]
  },
  {
   "cell_type": "markdown",
   "metadata": {},
   "source": [
    "# Step 1\n",
    "\n",
    "* First step is to load the wav file\n",
    "* we can cut the signal by using a sample_rate - number of samples per second\n",
    "  * 3.5 * sample_rate takes only first 3.5 seconds of the record"
   ]
  },
  {
   "cell_type": "code",
   "execution_count": 2,
   "metadata": {},
   "outputs": [],
   "source": [
    "sample_rate, signal = scipy.io.wavfile.read('an4_dataset/train/an1-mblw-b.wav')  # File assumed to be in the same directory\n",
    "signal = signal[0:int(3.5 * sample_rate)]  # Keep the first 3.5 seconds"
   ]
  },
  {
   "cell_type": "markdown",
   "metadata": {},
   "source": [
    "# Step 2 - optional\n",
    "\n",
    "* pre-emphasis\n",
    " 1. enhances higher frequencies\n",
    " 2. avoids numerical problems during FFT\n",
    " 3. may improve SNR - Signal-to-noise ratio\n",
    " \n",
    "* not required due to modern implementations of FFT have improved"
   ]
  },
  {
   "cell_type": "code",
   "execution_count": 3,
   "metadata": {},
   "outputs": [],
   "source": [
    "pre_emphasis = 0.97\n",
    "emphasized_signal = numpy.append(signal[0], signal[1:] - pre_emphasis * signal[:-1])"
   ]
  },
  {
   "cell_type": "markdown",
   "metadata": {},
   "source": [
    "# Step 3\n",
    "\n",
    "* framing\n",
    " * signals are stable for a very short time\n",
    " * we therefore split signal into small frames to extract frequencies for FFT in these shorter relatively stable periods\n",
    " * allows for better approximation of frequencies\n",
    " \n",
    "* typically 20 - 40 ms sequencies with approx. 10% overlapping\n",
    "* stride of 0.02 is 20 ms and frame size of 40 ms is 0.04\n",
    " * frame_stride = 0.02\n",
    " * frame_size = 0.04"
   ]
  },
  {
   "cell_type": "code",
   "execution_count": 4,
   "metadata": {},
   "outputs": [],
   "source": [
    "frame_size, frame_stride = 0.02, 0.01\n",
    "frame_length, frame_step = frame_size * sample_rate, frame_stride * sample_rate  # Convert from seconds to samples\n",
    "signal_length = len(emphasized_signal)\n",
    "frame_length = int(round(frame_length))\n",
    "frame_step = int(round(frame_step))\n",
    "num_frames = int(numpy.ceil(float(numpy.abs(signal_length - frame_length)) / frame_step))  # Make sure that we have at least 1 frame\n",
    "\n",
    "pad_signal_length = num_frames * frame_step + frame_length\n",
    "z = numpy.zeros((pad_signal_length - signal_length))\n",
    "pad_signal = numpy.append(emphasized_signal, z) # Pad Signal to make sure that all frames have equal number of samples without truncating any samples from the original signal\n",
    "\n",
    "indices = numpy.tile(numpy.arange(0, frame_length), (num_frames, 1)) + numpy.tile(numpy.arange(0, num_frames * frame_step, frame_step), (frame_length, 1)).T\n",
    "frames = pad_signal[indices.astype(numpy.int32, copy=False)]"
   ]
  },
  {
   "cell_type": "markdown",
   "metadata": {},
   "source": [
    "# Step 4\n",
    "\n",
    "* Window function\n",
    "  * Hamming window or another\n",
    "  * counters FFT assumptions such as the data is infinite"
   ]
  },
  {
   "cell_type": "code",
   "execution_count": 5,
   "metadata": {},
   "outputs": [],
   "source": [
    "frames *= numpy.hamming(frame_length)\n",
    "# frames *= 0.54 - 0.46 * numpy.cos((2 * numpy.pi * n) / (frame_length - 1))  # Explicit Implementation "
   ]
  },
  {
   "cell_type": "markdown",
   "metadata": {},
   "source": [
    "# Step 5\n",
    "\n",
    "* Fourier transform\n",
    "  * short time fourier transform - STFT\n",
    "  * on each step calculates frequency spectrum\n",
    "\n",
    "* power spectrum\n",
    "  * periodogram"
   ]
  },
  {
   "cell_type": "code",
   "execution_count": 6,
   "metadata": {},
   "outputs": [
    {
     "name": "stderr",
     "output_type": "stream",
     "text": [
      "/usr/local/lib/python3.6/site-packages/mkl_fft/_numpy_fft.py:331: FutureWarning: Using a non-tuple sequence for multidimensional indexing is deprecated; use `arr[tuple(seq)]` instead of `arr[seq]`. In the future this will be interpreted as an array index, `arr[np.array(seq)]`, which will result either in an error or a different result.\n",
      "  output = mkl_fft.rfft_numpy(a, n=n, axis=axis)\n"
     ]
    }
   ],
   "source": [
    "NFFT = 512\n",
    "mag_frames = numpy.absolute(numpy.fft.rfft(frames, NFFT))  # Magnitude of the FFT\n",
    "pow_frames = ((1.0 / NFFT) * ((mag_frames) ** 2))  # Power Spectrum"
   ]
  },
  {
   "cell_type": "markdown",
   "metadata": {},
   "source": [
    "# Step 6\n",
    "\n",
    "* Filter banks\n",
    "  * applies filter banks to the sound\n",
    "  * uses Mel-scale\n",
    "  * extracts spectrum to frequency bands\n",
    "  * mimics human ear - more discriminative at lower frequencies and less discriminative at higher frequencies\n",
    "* filter banks are triangular\n",
    "* we always use number of filters - nfilt, typically around 40\n",
    "  * nfilt = 40"
   ]
  },
  {
   "cell_type": "code",
   "execution_count": 7,
   "metadata": {},
   "outputs": [],
   "source": [
    "nfilt = 40\n",
    "low_freq_mel = 0\n",
    "high_freq_mel = (2595 * numpy.log10(1 + (sample_rate / 2) / 700))  # Convert Hz to Mel\n",
    "mel_points = numpy.linspace(low_freq_mel, high_freq_mel, nfilt + 2)  # Equally spaced in Mel scale\n",
    "hz_points = (700 * (10**(mel_points / 2595) - 1))  # Convert Mel to Hz\n",
    "bin = numpy.floor((NFFT + 1) * hz_points / sample_rate)\n",
    "\n",
    "fbank = numpy.zeros((nfilt, int(numpy.floor(NFFT / 2 + 1))))\n",
    "for m in range(1, nfilt + 1):\n",
    "    f_m_minus = int(bin[m - 1])   # left\n",
    "    f_m = int(bin[m])             # center\n",
    "    f_m_plus = int(bin[m + 1])    # right\n",
    "\n",
    "    for k in range(f_m_minus, f_m):\n",
    "        fbank[m - 1, k] = (k - bin[m - 1]) / (bin[m] - bin[m - 1])\n",
    "    for k in range(f_m, f_m_plus):\n",
    "        fbank[m - 1, k] = (bin[m + 1] - k) / (bin[m + 1] - bin[m])\n",
    "filter_banks = numpy.dot(pow_frames, fbank.T)\n",
    "filter_banks = numpy.where(filter_banks == 0, numpy.finfo(float).eps, filter_banks)  # Numerical Stability\n",
    "filter_banks = 20 * numpy.log10(filter_banks)  # dB"
   ]
  },
  {
   "cell_type": "markdown",
   "metadata": {},
   "source": [
    "# Step 7\n",
    "\n",
    "* MFCC\n",
    "  * Mel-frequency cepstral coefficients\n",
    "  * mel filtering are highly correlated which can cause problems for ML algorithms\n",
    "  * Applying DCT - Discrete cosine transform for decorrelation\n",
    "  * Automatic speech recognition (ASR) uses coefficients between 2 - 13 which are retained\n",
    "* Discarding the coefficients is because they represent fast changes in the filter bank coeffcients and do not contribute to ASR"
   ]
  },
  {
   "cell_type": "code",
   "execution_count": 8,
   "metadata": {},
   "outputs": [],
   "source": [
    "num_ceps = 12\n",
    "mfcc = dct(filter_banks, type=2, axis=1, norm='ortho')[:, 1 : (num_ceps + 1)] # Keep 2-13"
   ]
  },
  {
   "cell_type": "markdown",
   "metadata": {},
   "source": [
    "* Also possible to apply sinusoidal liftering to de-emphasize higher MFCC which improves speech recognition in noisy signals"
   ]
  },
  {
   "cell_type": "markdown",
   "metadata": {},
   "source": [
    "# Step 8\n",
    "\n",
    "* mean normalization\n",
    "* improves signal-to-noise"
   ]
  },
  {
   "cell_type": "code",
   "execution_count": 9,
   "metadata": {},
   "outputs": [],
   "source": [
    "filter_banks -= (numpy.mean(filter_banks, axis=0) + 1e-8)\n",
    "mfcc -= (numpy.mean(mfcc, axis=0) + 1e-8)"
   ]
  },
  {
   "cell_type": "markdown",
   "metadata": {},
   "source": [
    "mfcc.shape"
   ]
  },
  {
   "cell_type": "code",
   "execution_count": 10,
   "metadata": {},
   "outputs": [
    {
     "data": {
      "text/plain": [
       "(148, 12)"
      ]
     },
     "execution_count": 10,
     "metadata": {},
     "output_type": "execute_result"
    }
   ],
   "source": [
    "mfcc.shape"
   ]
  },
  {
   "cell_type": "code",
   "execution_count": 11,
   "metadata": {},
   "outputs": [
    {
     "name": "stdout",
     "output_type": "stream",
     "text": [
      "(148, 12)\n"
     ]
    }
   ],
   "source": [
    "print(mfcc.shape)"
   ]
  },
  {
   "cell_type": "code",
   "execution_count": 12,
   "metadata": {},
   "outputs": [
    {
     "data": {
      "text/plain": [
       "array([[-41.93547301,  12.11955534,  -3.74744433, ...,  29.307929  ,\n",
       "         -4.05431875,   9.34707281],\n",
       "       [-31.89631311,   4.16131126, -16.19114323, ...,  10.99546045,\n",
       "        -20.04580869,   9.78383616],\n",
       "       [-35.8446343 ,  16.94022011,  -2.95354261, ...,  26.50893761,\n",
       "         -7.67204468,   5.48191619],\n",
       "       ...,\n",
       "       [ 17.12015833, -58.43328798, -22.92331547, ...,  -6.01145675,\n",
       "        -13.8242886 ,  23.71481512],\n",
       "       [ 37.034746  , -41.68287765, -36.86538942, ..., -12.53526094,\n",
       "        -24.59991047,   9.57245889],\n",
       "       [ 15.06486697, -36.19997078, -46.8258387 , ..., -20.42293341,\n",
       "         -8.76024341,   7.08196808]])"
      ]
     },
     "execution_count": 12,
     "metadata": {},
     "output_type": "execute_result"
    }
   ],
   "source": [
    "mfcc"
   ]
  },
  {
   "cell_type": "code",
   "execution_count": null,
   "metadata": {},
   "outputs": [],
   "source": []
  }
 ],
 "metadata": {
  "kernelspec": {
   "display_name": "Python 3",
   "language": "python",
   "name": "python3"
  },
  "language_info": {
   "codemirror_mode": {
    "name": "ipython",
    "version": 2
   },
   "file_extension": ".py",
   "mimetype": "text/x-python",
   "name": "python",
   "nbconvert_exporter": "python",
   "pygments_lexer": "ipython2",
   "version": "2.7.15"
  },
  "widgets": {
   "state": {},
   "version": "1.1.2"
  }
 },
 "nbformat": 4,
 "nbformat_minor": 2
}

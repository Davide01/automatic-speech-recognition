{
 "cells": [
  {
   "cell_type": "code",
   "execution_count": 10,
   "metadata": {},
   "outputs": [],
   "source": [
    "import librosa\n",
    "import librosa.display\n",
    "import matplotlib.pyplot as plt\n",
    "import numpy\n",
    "import os"
   ]
  },
  {
   "cell_type": "code",
   "execution_count": 64,
   "metadata": {},
   "outputs": [],
   "source": [
    "#Functions for file manipulation\n",
    "def load_samples(file_path):\n",
    "    ys, srs = [[]],[[]]\n",
    "    i = 0\n",
    "    #loads .wav files\n",
    "    for filename in os.listdir(file_path):\n",
    "        if filename.endswith(\".wav\"):\n",
    "            y, sr = librosa.load(path+filename)\n",
    "            ys[i].append(y)\n",
    "            srs[i].append(sr)\n",
    "            i = i + 1\n",
    "            ys.append([])\n",
    "            srs.append([])  \n",
    "    ys = ys[0: len(ys) - 1]\n",
    "    srs = srs[0: len(srs) - 1]\n",
    "    return (ys, srs)\n",
    "def load_labels(file_path):\n",
    "    i = 0\n",
    "    labels = [[]]\n",
    "    \n",
    "    for filename in os.listdir(file_path):\n",
    "        if filename.endswith(\".txt\"):\n",
    "            file = open(file_path+filename, \"r\") \n",
    "            labels[i].append(file.read())\n",
    "            labels.append([])\n",
    "            i = i + 1\n",
    "            \n",
    "    labels=labels[0: len(labels) - 1]\n",
    "    return labels"
   ]
  },
  {
   "cell_type": "code",
   "execution_count": 88,
   "metadata": {},
   "outputs": [],
   "source": [
    "#Functions for feature extraction\n",
    "def pre_emphasize(ys, pre_emphasis):\n",
    "    for i, y in enumerate(ys):\n",
    "        signal=y[0]\n",
    "        y[0] = numpy.append(signal[0], signal[1:] - pre_emphasis * signal[:-1])\n",
    "    return ys\n",
    "def fourier_transform(ys, N_FFT=512, window='hamming', hop_size=256):\n",
    "\n",
    "    Ds = [[]]\n",
    "\n",
    "    for i, y in enumerate(ys):\n",
    "        Ds[i].append(librosa.core.stft(y=y[0], n_fft=N_FFT, window=window, hop_length=hop_size))\n",
    "        Ds.append([])\n",
    "    return Ds"
   ]
  },
  {
   "cell_type": "markdown",
   "metadata": {},
   "source": [
    "# Step 1\n",
    "* we open the samples and labels"
   ]
  },
  {
   "cell_type": "code",
   "execution_count": 75,
   "metadata": {},
   "outputs": [],
   "source": [
    "path = \"C:/Work/DTU/Deep-learning/Project/dataset/an4_dataset/train/\"#path to the dataset\n",
    "\n",
    "ys, srs = load_samples(path)\n",
    "labels = load_labels(path)"
   ]
  },
  {
   "cell_type": "markdown",
   "metadata": {},
   "source": [
    "# Step 2\n",
    "* loaded data is preprocessed\n",
    "* we perform stft using librosa\n",
    "* then we add melspectrogram\n",
    "* and MFCCs, all are prepared, but we can use each of them, so we get different kinds of features\n",
    "\n",
    "**Note**: For stft we have a window size, typically 512 or 256 and hop size. On each iteration we start at \n",
    "$$\n",
    "n_1 = N_f x H\n",
    "$$\n",
    "and we finish at\n",
    "$$\n",
    "n_2 = n_1 + M - 1\n",
    "$$\n",
    "\n",
    "https://dsp.stackexchange.com/questions/38491/time-position-in-stft-output\n",
    "\n",
    "H is a hop size (length) and M is a window size."
   ]
  },
  {
   "cell_type": "code",
   "execution_count": 79,
   "metadata": {},
   "outputs": [],
   "source": [
    "ys_emphasized=pre_emphasize(ys, 0.97)\n",
    "ys_emphasized=ys_emphasized[0: 25]"
   ]
  },
  {
   "cell_type": "code",
   "execution_count": 89,
   "metadata": {},
   "outputs": [],
   "source": [
    "N_FFT = 512 #window size\n",
    "window='hamming'\n",
    "hop_size = 256\n",
    "\n",
    "Ds=fourier_transform(ys=ys, N_FFT=N_FFT, window=window, hop_size=hop_size)"
   ]
  },
  {
   "cell_type": "code",
   "execution_count": null,
   "metadata": {},
   "outputs": [],
   "source": []
  }
 ],
 "metadata": {
  "kernelspec": {
   "display_name": "Python 3",
   "language": "python",
   "name": "python3"
  },
  "language_info": {
   "codemirror_mode": {
    "name": "ipython",
    "version": 3
   },
   "file_extension": ".py",
   "mimetype": "text/x-python",
   "name": "python",
   "nbconvert_exporter": "python",
   "pygments_lexer": "ipython3",
   "version": "3.6.5"
  }
 },
 "nbformat": 4,
 "nbformat_minor": 2
}
